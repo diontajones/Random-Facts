{
 "cells": [
  {
   "cell_type": "code",
   "execution_count": 2,
   "id": "16353798-5aac-4a0d-bfd4-af943d584589",
   "metadata": {},
   "outputs": [],
   "source": [
    "import requests"
   ]
  },
  {
   "cell_type": "code",
   "execution_count": 4,
   "id": "e79c337f-8ced-4fb5-b288-62385db18428",
   "metadata": {},
   "outputs": [
    {
     "name": "stdout",
     "output_type": "stream",
     "text": [
      "{'fact': 'Detroit is the potato chip capital of the world by consumption'}\n"
     ]
    }
   ],
   "source": [
    "url = \"http://127.0.0.1:8000/detroit_facts\"\n",
    "\n",
    "response = requests.get(url)\n",
    "\n",
    "print(response.json())"
   ]
  }
 ],
 "metadata": {
  "kernelspec": {
   "display_name": "Python 3 (ipykernel)",
   "language": "python",
   "name": "python3"
  },
  "language_info": {
   "codemirror_mode": {
    "name": "ipython",
    "version": 3
   },
   "file_extension": ".py",
   "mimetype": "text/x-python",
   "name": "python",
   "nbconvert_exporter": "python",
   "pygments_lexer": "ipython3",
   "version": "3.9.13"
  }
 },
 "nbformat": 4,
 "nbformat_minor": 5
}
